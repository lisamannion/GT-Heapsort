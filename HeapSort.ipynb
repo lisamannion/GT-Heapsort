{
 "cells": [
  {
   "cell_type": "markdown",
   "id": "a94637bb",
   "metadata": {},
   "source": [
    "# Heap Sort\n",
    "\n",
    "***"
   ]
  },
  {
   "cell_type": "markdown",
   "id": "941a1408",
   "metadata": {},
   "source": [
    "## Lists in Python\n",
    "\n",
    "***"
   ]
  },
  {
   "cell_type": "code",
   "execution_count": 1,
   "id": "601dc3ba",
   "metadata": {},
   "outputs": [],
   "source": [
    "# Lists in Python are denoted by square bracket notation\n",
    "L = [1, 2, 3, \"Hello World!\", None, True]"
   ]
  },
  {
   "cell_type": "code",
   "execution_count": 2,
   "id": "78a9216a",
   "metadata": {},
   "outputs": [
    {
     "data": {
      "text/plain": [
       "[1, 2, 3, 'Hello World!', None, True]"
      ]
     },
     "execution_count": 2,
     "metadata": {},
     "output_type": "execute_result"
    }
   ],
   "source": [
    "L"
   ]
  },
  {
   "cell_type": "code",
   "execution_count": 3,
   "id": "18556cc8",
   "metadata": {},
   "outputs": [],
   "source": [
    "# Lists are zero indexed\n",
    "L[4]"
   ]
  },
  {
   "cell_type": "code",
   "execution_count": 4,
   "id": "6234328f",
   "metadata": {},
   "outputs": [
    {
     "data": {
      "text/plain": [
       "'Hello World!'"
      ]
     },
     "execution_count": 4,
     "metadata": {},
     "output_type": "execute_result"
    }
   ],
   "source": [
    "L[3]"
   ]
  },
  {
   "cell_type": "code",
   "execution_count": 5,
   "id": "34bd3558",
   "metadata": {},
   "outputs": [
    {
     "data": {
      "text/plain": [
       "True"
      ]
     },
     "execution_count": 5,
     "metadata": {},
     "output_type": "execute_result"
    }
   ],
   "source": [
    "L[5]"
   ]
  },
  {
   "cell_type": "code",
   "execution_count": 6,
   "id": "fe6b72cb",
   "metadata": {},
   "outputs": [
    {
     "data": {
      "text/plain": [
       "[1, 2, 3]"
      ]
     },
     "execution_count": 6,
     "metadata": {},
     "output_type": "execute_result"
    }
   ],
   "source": [
    "# Create lists with the list() function\n",
    "list({1, 2, 3, 3})"
   ]
  },
  {
   "cell_type": "code",
   "execution_count": 7,
   "id": "e8260681",
   "metadata": {},
   "outputs": [
    {
     "data": {
      "text/plain": [
       "True"
      ]
     },
     "execution_count": 7,
     "metadata": {},
     "output_type": "execute_result"
    }
   ],
   "source": [
    "# Using negative indexes\n",
    "L[-1]"
   ]
  },
  {
   "cell_type": "code",
   "execution_count": 8,
   "id": "c34a1e1f",
   "metadata": {},
   "outputs": [
    {
     "data": {
      "text/plain": [
       "'Hello World!'"
      ]
     },
     "execution_count": 8,
     "metadata": {},
     "output_type": "execute_result"
    }
   ],
   "source": [
    "# Third last element\n",
    "L[-3]"
   ]
  },
  {
   "cell_type": "code",
   "execution_count": 9,
   "id": "c3128393",
   "metadata": {},
   "outputs": [
    {
     "data": {
      "text/plain": [
       "[1, 3, 5, 7, 9, 11, 13, 15, 17, 19]"
      ]
     },
     "execution_count": 9,
     "metadata": {},
     "output_type": "execute_result"
    }
   ],
   "source": [
    "# In-built functions for creating iterables\n",
    "list(range(1, 20, 2))"
   ]
  },
  {
   "cell_type": "code",
   "execution_count": 10,
   "id": "01655266",
   "metadata": {},
   "outputs": [
    {
     "data": {
      "text/plain": [
       "[1, 2, 3, 4, 5, 6, 7, 8, 9, 10, 11, 12, 13, 14, 15, 16, 17, 18, 19]"
      ]
     },
     "execution_count": 10,
     "metadata": {},
     "output_type": "execute_result"
    }
   ],
   "source": [
    "# range function without third parameter (default stepping 1)\n",
    "list(range(1, 20))"
   ]
  },
  {
   "cell_type": "code",
   "execution_count": 11,
   "id": "4c11e810",
   "metadata": {},
   "outputs": [
    {
     "data": {
      "text/plain": [
       "[0, 1, 2, 3, 4, 5, 6, 7, 8, 9, 10, 11, 12, 13, 14, 15, 16, 17, 18, 19]"
      ]
     },
     "execution_count": 11,
     "metadata": {},
     "output_type": "execute_result"
    }
   ],
   "source": [
    "# range function with only one parameter (default start value is 0)\n",
    "list(range(20))"
   ]
  },
  {
   "cell_type": "code",
   "execution_count": 12,
   "id": "a5b952d4",
   "metadata": {},
   "outputs": [
    {
     "data": {
      "text/plain": [
       "[0, 1, 2, 3, 4, 5, 6, 7, 8, 9, 10, 11, 12, 13, 14, 15, 16, 17, 18, 19]"
      ]
     },
     "execution_count": 12,
     "metadata": {},
     "output_type": "execute_result"
    }
   ],
   "source": [
    "L = list(range(20))\n",
    "L"
   ]
  },
  {
   "cell_type": "code",
   "execution_count": 13,
   "id": "822dd819",
   "metadata": {},
   "outputs": [
    {
     "data": {
      "text/plain": [
       "[1, 3, 5, 7, 9]"
      ]
     },
     "execution_count": 13,
     "metadata": {},
     "output_type": "execute_result"
    }
   ],
   "source": [
    "# List slicing - startIndex, endIndex, steps\n",
    "L[1:10:2]"
   ]
  },
  {
   "cell_type": "code",
   "execution_count": 14,
   "id": "8e70a97a",
   "metadata": {},
   "outputs": [
    {
     "data": {
      "text/plain": [
       "[5, 6, 7, 8, 9]"
      ]
     },
     "execution_count": 14,
     "metadata": {},
     "output_type": "execute_result"
    }
   ],
   "source": [
    "# If only two parameters are supplied - default steps = 1\n",
    "L[5:10]"
   ]
  },
  {
   "cell_type": "code",
   "execution_count": 15,
   "id": "50abb166",
   "metadata": {},
   "outputs": [
    {
     "data": {
      "text/plain": [
       "[1, 2, 3, 4, 5, 6, 7, 8, 9, 10, 11, 12, 13, 14, 15, 16, 17, 18, 19, 0]"
      ]
     },
     "execution_count": 15,
     "metadata": {},
     "output_type": "execute_result"
    }
   ],
   "source": [
    "# Quick way to cycle the list to the left - Note: 0 is now at the end of the list\n",
    "L[1:] + L[:1]"
   ]
  },
  {
   "cell_type": "code",
   "execution_count": 16,
   "id": "41ffbafc",
   "metadata": {},
   "outputs": [
    {
     "data": {
      "text/plain": [
       "[5, 6, 7, 8, 9, 10, 11, 12, 13, 14, 15, 16, 17, 18, 19, 0, 1, 2, 3, 4]"
      ]
     },
     "execution_count": 16,
     "metadata": {},
     "output_type": "execute_result"
    }
   ],
   "source": [
    "# Cycle using varible - moves by 5 places to the left (0-4 now at end of list)\n",
    "i = 5\n",
    "L[i:] + L[:i]"
   ]
  },
  {
   "cell_type": "code",
   "execution_count": 17,
   "id": "5a7bc1db",
   "metadata": {},
   "outputs": [],
   "source": [
    "# Tuples - immutable, values cannot be changed\n",
    "# Can't assign new value for any element - T[2] = 100 would result in an error\n",
    "T = (1, 2, 3, 4)"
   ]
  },
  {
   "cell_type": "code",
   "execution_count": 18,
   "id": "fb0ecf5d",
   "metadata": {},
   "outputs": [
    {
     "data": {
      "text/plain": [
       "1"
      ]
     },
     "execution_count": 18,
     "metadata": {},
     "output_type": "execute_result"
    }
   ],
   "source": [
    "# Reading tuples\n",
    "T[0]"
   ]
  },
  {
   "cell_type": "code",
   "execution_count": 19,
   "id": "31efad5f",
   "metadata": {},
   "outputs": [
    {
     "data": {
      "text/plain": [
       "(3, 4)"
      ]
     },
     "execution_count": 19,
     "metadata": {},
     "output_type": "execute_result"
    }
   ],
   "source": [
    "# Tuple slicing\n",
    "T[2:]"
   ]
  },
  {
   "cell_type": "code",
   "execution_count": 20,
   "id": "7af335cf",
   "metadata": {},
   "outputs": [
    {
     "data": {
      "text/plain": [
       "(1, 2, 3, 4, 5)"
      ]
     },
     "execution_count": 20,
     "metadata": {},
     "output_type": "execute_result"
    }
   ],
   "source": [
    "# Tuples are created with commas as opposed to round brackets as above\n",
    "T = 1, 2, 3, 4, 5\n",
    "T"
   ]
  },
  {
   "cell_type": "code",
   "execution_count": 21,
   "id": "f518bcd5",
   "metadata": {},
   "outputs": [
    {
     "data": {
      "text/plain": [
       "-5659871693760987716"
      ]
     },
     "execution_count": 21,
     "metadata": {},
     "output_type": "execute_result"
    }
   ],
   "source": [
    "# Hash function - Cannot hash lists\n",
    "hash(T)"
   ]
  },
  {
   "cell_type": "code",
   "execution_count": 22,
   "id": "58fcdc36",
   "metadata": {},
   "outputs": [],
   "source": [
    "# You can use tuples for assignment\n",
    "a, b = 3, 4"
   ]
  },
  {
   "cell_type": "code",
   "execution_count": 23,
   "id": "2cc3f26a",
   "metadata": {},
   "outputs": [
    {
     "data": {
      "text/plain": [
       "3"
      ]
     },
     "execution_count": 23,
     "metadata": {},
     "output_type": "execute_result"
    }
   ],
   "source": [
    "a"
   ]
  },
  {
   "cell_type": "code",
   "execution_count": 24,
   "id": "5bac8ea6",
   "metadata": {},
   "outputs": [
    {
     "data": {
      "text/plain": [
       "4"
      ]
     },
     "execution_count": 24,
     "metadata": {},
     "output_type": "execute_result"
    }
   ],
   "source": [
    "b"
   ]
  },
  {
   "cell_type": "code",
   "execution_count": 25,
   "id": "4325bedc",
   "metadata": {},
   "outputs": [],
   "source": [
    "# Tuples can be used to swap around values\n",
    "# Values on the right are assigned to variables on the left\n",
    "a, b = b, a"
   ]
  },
  {
   "cell_type": "code",
   "execution_count": 26,
   "id": "08413844",
   "metadata": {},
   "outputs": [
    {
     "data": {
      "text/plain": [
       "4"
      ]
     },
     "execution_count": 26,
     "metadata": {},
     "output_type": "execute_result"
    }
   ],
   "source": [
    "a"
   ]
  },
  {
   "cell_type": "code",
   "execution_count": 27,
   "id": "0d6849c6",
   "metadata": {},
   "outputs": [
    {
     "data": {
      "text/plain": [
       "3"
      ]
     },
     "execution_count": 27,
     "metadata": {},
     "output_type": "execute_result"
    }
   ],
   "source": [
    "b"
   ]
  },
  {
   "cell_type": "code",
   "execution_count": 28,
   "id": "b219a3fa",
   "metadata": {},
   "outputs": [
    {
     "data": {
      "text/plain": [
       "[0, 1, 2, 3, 4, 5, 6, 7, 8, 9]"
      ]
     },
     "execution_count": 28,
     "metadata": {},
     "output_type": "execute_result"
    }
   ],
   "source": [
    "# List of integers\n",
    "L = list(range(10))\n",
    "L"
   ]
  },
  {
   "cell_type": "code",
   "execution_count": 29,
   "id": "168718f9",
   "metadata": {},
   "outputs": [
    {
     "data": {
      "text/plain": [
       "[0, 1, 8, 27, 64, 125, 216, 343, 512, 729]"
      ]
     },
     "execution_count": 29,
     "metadata": {},
     "output_type": "execute_result"
    }
   ],
   "source": [
    "# List comprehension\n",
    "[i**3 for i in L]"
   ]
  },
  {
   "cell_type": "code",
   "execution_count": 30,
   "id": "f9fafe10",
   "metadata": {},
   "outputs": [
    {
     "data": {
      "text/plain": [
       "[0, 8, 64, 216, 512]"
      ]
     },
     "execution_count": 30,
     "metadata": {},
     "output_type": "execute_result"
    }
   ],
   "source": [
    "# Can have conditions in list comprehension expressions cubes of only even numbers\n",
    "[i**3 for i in L if i % 2 == 0]"
   ]
  },
  {
   "cell_type": "code",
   "execution_count": 31,
   "id": "2bf69f40",
   "metadata": {},
   "outputs": [
    {
     "data": {
      "text/plain": [
       "[0, 1, 2, 3, 4, 5, 6, 7, 8, 9]"
      ]
     },
     "execution_count": 31,
     "metadata": {},
     "output_type": "execute_result"
    }
   ],
   "source": [
    "L"
   ]
  },
  {
   "cell_type": "code",
   "execution_count": 32,
   "id": "55ac60a0",
   "metadata": {},
   "outputs": [
    {
     "data": {
      "text/plain": [
       "[9, 8, 7, 6, 5, 4, 3, 2, 1, 0]"
      ]
     },
     "execution_count": 32,
     "metadata": {},
     "output_type": "execute_result"
    }
   ],
   "source": [
    "# Really quick way to reverse a list\n",
    "L[::-1]"
   ]
  },
  {
   "cell_type": "markdown",
   "id": "c0c15cc6",
   "metadata": {},
   "source": [
    "<br>\n",
    "\n",
    "## Bubble Sort\n",
    "\n",
    "***"
   ]
  },
  {
   "cell_type": "code",
   "execution_count": 33,
   "id": "d5824a81",
   "metadata": {},
   "outputs": [],
   "source": [
    "# Importing a module from the standard library\n",
    "import random"
   ]
  },
  {
   "cell_type": "code",
   "execution_count": 34,
   "id": "27266e58",
   "metadata": {},
   "outputs": [
    {
     "data": {
      "text/plain": [
       "[1, 2, 3, 4, 5, 6, 7, 8, 9, 10]"
      ]
     },
     "execution_count": 34,
     "metadata": {},
     "output_type": "execute_result"
    }
   ],
   "source": [
    "# Create a list of integers\n",
    "L = list(range(1, 11))\n",
    "L"
   ]
  },
  {
   "cell_type": "code",
   "execution_count": 35,
   "id": "d2a98c8b",
   "metadata": {},
   "outputs": [],
   "source": [
    "# Shuffle the list - The shuffle function changes the list itself\n",
    "# More of a pass by reference than a pass by value when shuffling\n",
    "random.shuffle(L)"
   ]
  },
  {
   "cell_type": "code",
   "execution_count": 36,
   "id": "f7f1417f",
   "metadata": {},
   "outputs": [
    {
     "data": {
      "text/plain": [
       "[6, 2, 10, 3, 1, 9, 5, 4, 7, 8]"
      ]
     },
     "execution_count": 36,
     "metadata": {},
     "output_type": "execute_result"
    }
   ],
   "source": [
    "# List shuffled\n",
    "L"
   ]
  },
  {
   "cell_type": "code",
   "execution_count": 37,
   "id": "26e05e45",
   "metadata": {},
   "outputs": [],
   "source": [
    "# Bubble sort - take one away from the length of the list to ensure no out of range errors\n",
    "# Even though you have 10 elements you are only doing 9 comparisons\n",
    "for i in range(len(L) - 1):\n",
    "    # Compare the ith element with the (i+1)th element\n",
    "    if L[i] > L[i + 1]:\n",
    "        # Swap the elements\n",
    "        L[i], L[i + 1] = L[i + 1], L[i]"
   ]
  },
  {
   "cell_type": "code",
   "execution_count": 38,
   "id": "d4f23a58",
   "metadata": {},
   "outputs": [
    {
     "data": {
      "text/plain": [
       "[2, 6, 3, 1, 9, 5, 4, 7, 8, 10]"
      ]
     },
     "execution_count": 38,
     "metadata": {},
     "output_type": "execute_result"
    }
   ],
   "source": [
    "L"
   ]
  },
  {
   "cell_type": "code",
   "execution_count": 39,
   "id": "48aed436",
   "metadata": {},
   "outputs": [],
   "source": [
    "# Keep track of number of comparisons\n",
    "no_comparisons = 0\n",
    "\n",
    "# Complete bubble sort - bubble every (biggest) element up \n",
    "for j in range(len(L) - 1):\n",
    "    for i in range(len(L) - 1):\n",
    "        # Compare all elements that are side by side\n",
    "        if L[i] > L[i + 1]:\n",
    "            # Swap the elements\n",
    "            L[i], L[i + 1] = L[i + 1], L[i]\n",
    "        # Add a comparison\n",
    "        no_comparisons = no_comparisons + 1"
   ]
  },
  {
   "cell_type": "code",
   "execution_count": 40,
   "id": "e8bc391a",
   "metadata": {},
   "outputs": [
    {
     "data": {
      "text/plain": [
       "[1, 2, 3, 4, 5, 6, 7, 8, 9, 10]"
      ]
     },
     "execution_count": 40,
     "metadata": {},
     "output_type": "execute_result"
    }
   ],
   "source": [
    "L"
   ]
  },
  {
   "cell_type": "code",
   "execution_count": 41,
   "id": "bd7e4e77",
   "metadata": {},
   "outputs": [
    {
     "data": {
      "text/plain": [
       "81"
      ]
     },
     "execution_count": 41,
     "metadata": {},
     "output_type": "execute_result"
    }
   ],
   "source": [
    "no_comparisons"
   ]
  },
  {
   "cell_type": "code",
   "execution_count": 42,
   "id": "ec89638c",
   "metadata": {},
   "outputs": [],
   "source": [
    "# Optimisation of bubble sort by keeping track of swaps\n",
    "no_comparisons = 0\n",
    "\n",
    "# Complete bubble sort - bubble every (biggest) element up \n",
    "for j in range(len(L) - 1):\n",
    "    # KEEP TRACK OF SWAPS\n",
    "    swapped = False\n",
    "    for i in range(len(L) - 1):\n",
    "        # Compare all elements that are side by side\n",
    "        if L[i] > L[i + 1]:\n",
    "            # Swap the elements\n",
    "            L[i], L[i + 1] = L[i + 1], L[i]\n",
    "            swapped = true\n",
    "        # Add a comparison\n",
    "        no_comparisons = no_comparisons + 1\n",
    "    if not swapped:\n",
    "        break"
   ]
  },
  {
   "cell_type": "code",
   "execution_count": 43,
   "id": "5daf4c9d",
   "metadata": {},
   "outputs": [],
   "source": [
    "# Bubble sort as a function.\n",
    "def bubble_sort(L):\n",
    "    # Keep track of number of comparisons.\n",
    "    no_comparisons = 0\n",
    "\n",
    "    # Bubble every (biggest) element up.\n",
    "    for j in range(len(L) - 1):\n",
    "        # Keep track of any swaps.\n",
    "        swapped = False\n",
    "        # Compare all elements that are side by side.\n",
    "        for i in range(len(L) - 1 - j):\n",
    "            # Compare the ith element with the (i+1)th.\n",
    "            if L[i] > L[i+1]:\n",
    "                # Swap the elements.\n",
    "                L[i], L[i+1] = L[i+1], L[i]\n",
    "                # Keep track of the swap.\n",
    "                swapped = True\n",
    "            # Add a comparison.\n",
    "            no_comparisons = no_comparisons + 1\n",
    "        # Quit if we didn't make any swaps.\n",
    "        if not swapped:\n",
    "            break\n",
    "    # Return the number of comparisons made.\n",
    "    return no_comparisons"
   ]
  },
  {
   "cell_type": "code",
   "execution_count": 44,
   "id": "9bf89900",
   "metadata": {},
   "outputs": [
    {
     "data": {
      "text/plain": [
       "[1, 6, 9, 4, 2, 8, 5, 10, 7, 3]"
      ]
     },
     "execution_count": 44,
     "metadata": {},
     "output_type": "execute_result"
    }
   ],
   "source": [
    "# Create a list.\n",
    "L = list(range(1, 11))\n",
    "\n",
    "# Shuffle it.\n",
    "random.shuffle(L)\n",
    "\n",
    "# Look at it.\n",
    "L"
   ]
  },
  {
   "cell_type": "code",
   "execution_count": 45,
   "id": "016b93ff",
   "metadata": {},
   "outputs": [
    {
     "data": {
      "text/plain": [
       "44"
      ]
     },
     "execution_count": 45,
     "metadata": {},
     "output_type": "execute_result"
    }
   ],
   "source": [
    "bubble_sort(L)"
   ]
  },
  {
   "cell_type": "code",
   "execution_count": 46,
   "id": "f2ccccf8",
   "metadata": {},
   "outputs": [
    {
     "data": {
      "text/plain": [
       "[1, 2, 3, 4, 5, 6, 7, 8, 9, 10]"
      ]
     },
     "execution_count": 46,
     "metadata": {},
     "output_type": "execute_result"
    }
   ],
   "source": [
    "L"
   ]
  },
  {
   "cell_type": "code",
   "execution_count": 47,
   "id": "4ee46a4d",
   "metadata": {},
   "outputs": [
    {
     "data": {
      "text/plain": [
       "9"
      ]
     },
     "execution_count": 47,
     "metadata": {},
     "output_type": "execute_result"
    }
   ],
   "source": [
    "# Once the list is sorted - bubble sort is O(n)\n",
    "bubble_sort(L)"
   ]
  },
  {
   "cell_type": "code",
   "execution_count": 48,
   "id": "5c0f616a",
   "metadata": {},
   "outputs": [
    {
     "data": {
      "text/plain": [
       "45"
      ]
     },
     "execution_count": 48,
     "metadata": {},
     "output_type": "execute_result"
    }
   ],
   "source": [
    "# Worst case for bubble sort - Still O(n^2)\n",
    "bubble_sort(L[::-1])"
   ]
  },
  {
   "cell_type": "markdown",
   "id": "7ebf2e17",
   "metadata": {},
   "source": [
    "<br>\n",
    "\n",
    "## Heap Sort\n",
    "\n",
    "***"
   ]
  },
  {
   "cell_type": "markdown",
   "id": "b227d862",
   "metadata": {},
   "source": [
    "#### Transplanted from Wikipedia\n",
    "\n",
    "https://en.m.wikipedia.org/wiki/Heapsort"
   ]
  },
  {
   "cell_type": "markdown",
   "id": "956f16a5",
   "metadata": {},
   "source": [
    "<img src=\"https://upload.wikimedia.org/wikipedia/commons/thumb/c/c4/Max-Heap-new.svg/854px-Max-Heap-new.svg.png\" width=\"300\"></img>"
   ]
  },
  {
   "cell_type": "code",
   "execution_count": 49,
   "id": "1044e620",
   "metadata": {},
   "outputs": [],
   "source": [
    "def siftDown(L, parent, end): \n",
    "    \"\"\"L[parent:end+1] should almost be a max heap. SiftDown repairs it so that it is one\"\"\"\n",
    "    # Keep track of the number of comparisons\n",
    "    no_comparisons = 0\n",
    "    \n",
    "    # While the root has at least one child - is a parent\n",
    "    while 2 * parent + 1 <= end:\n",
    "        # Index of left and right child of parent\n",
    "        lchild = 2 * parent + 1\n",
    "        rchild = 2 * parent + 2\n",
    "        \n",
    "        # Keeps track of child to swap with\n",
    "        swap = parent\n",
    "        \n",
    "        # If the parent smaller than the left child\n",
    "        if L[swap] < L[lchild]:\n",
    "            # Then swap is set to index of the left child\n",
    "            swap = lchild\n",
    "            # Increment number of comparisons here\n",
    "            no_comparisons = no_comparisons + 1\n",
    "        # Check for right child and check if it is smaller\n",
    "        if rchild <= end and L[swap] < L[rchild]:\n",
    "            # swap is then set to index of the right child\n",
    "            swap = rchild\n",
    "            # Increment number of comparisons here\n",
    "            no_comparisons = no_comparisons + 1\n",
    "        # We have a max heap if the parent is bigger than the children\n",
    "        if swap == parent:\n",
    "            # Parent holds largest element. Since we assume the heaps rooted at the children are valid, this means that we are done\n",
    "            break\n",
    "        else:\n",
    "            # Swap the parent with the bigger child\n",
    "            L[parent], L[swap] = L[swap], L[parent]\n",
    "            \n",
    "            # Set parent to bigger childs index\n",
    "            parent = swap # repeat to continue sifting down the child now\n",
    "    \n",
    "    # Return the number of comparisons\n",
    "    return no_comparisons"
   ]
  },
  {
   "cell_type": "code",
   "execution_count": 50,
   "id": "53ee4106",
   "metadata": {},
   "outputs": [],
   "source": [
    "def heapsort(L):\n",
    "    \"\"\"Sorts L in-place using heap sort. Build heap L so that largest value is at the root (Makes L a max heap)\"\"\"\n",
    "    # Keep track of the number of comparisons\n",
    "    no_comparisons = 0\n",
    "    \n",
    "    # Index of last element\n",
    "    last_element = len(L) - 1\n",
    "    \n",
    "    # Find the last parent - Double forward slash is floored division\n",
    "    last_parent = (last_element - 1) // 2\n",
    "    \n",
    "    # Loop backwards through all parents\n",
    "    for parent in range(last_parent, -1, -1):\n",
    "        # Sift down the node at index 'start' to the proper place so that all nodes below the start index are in heap order\n",
    "        no_comparisons = no_comparisons + siftDown(L, parent, last_element)\n",
    "    \n",
    "    # Segregate the list L into two parts:\n",
    "    #   1. L[:end] is a max heap\n",
    "    #   2. Each element beyond end is greater than everything before it\n",
    "    # While there are still elements in the heap\n",
    "    for end in range(last_element, 0, -1):        \n",
    "        # Swap the element at index L[0] with the element at index[end].\n",
    "        L[0], L[end] = L[end], L[0]\n",
    "        \n",
    "        # The swap ruined the heap property, so restore it\n",
    "        no_comparisons = no_comparisons + siftDown(L, 0, end - 1)\n",
    "        \n",
    "    # Return the number of comparisons\n",
    "    return no_comparisons"
   ]
  },
  {
   "cell_type": "code",
   "execution_count": 51,
   "id": "869be1f9",
   "metadata": {},
   "outputs": [
    {
     "data": {
      "text/plain": [
       "4.0"
      ]
     },
     "execution_count": 51,
     "metadata": {},
     "output_type": "execute_result"
    }
   ],
   "source": [
    "# Dividing Integers results in float return\n",
    "8 / 2"
   ]
  },
  {
   "cell_type": "code",
   "execution_count": 52,
   "id": "5d22eb05",
   "metadata": {},
   "outputs": [
    {
     "data": {
      "text/plain": [
       "4"
      ]
     },
     "execution_count": 52,
     "metadata": {},
     "output_type": "execute_result"
    }
   ],
   "source": [
    "# If you want an integer back then use '//'\n",
    "# NOTE: Dividing 8 // 3 will result in value of 2\n",
    "8 // 2"
   ]
  },
  {
   "cell_type": "code",
   "execution_count": 53,
   "id": "caccca82",
   "metadata": {},
   "outputs": [
    {
     "data": {
      "text/plain": [
       "[19, 100, 36, 25, 3, 17, 7, 1, 2]"
      ]
     },
     "execution_count": 53,
     "metadata": {},
     "output_type": "execute_result"
    }
   ],
   "source": [
    "# List of numbers from the diagram above\n",
    "L = [19, 100, 36, 25, 3, 17, 7, 1, 2]\n",
    "L"
   ]
  },
  {
   "cell_type": "code",
   "execution_count": 54,
   "id": "af324ef8",
   "metadata": {},
   "outputs": [
    {
     "data": {
      "text/plain": [
       "[1, 2, 3, 7, 17, 19, 25, 36, 100]"
      ]
     },
     "execution_count": 54,
     "metadata": {},
     "output_type": "execute_result"
    }
   ],
   "source": [
    "# Show heapsort working\n",
    "heapsort(L)\n",
    "L"
   ]
  },
  {
   "cell_type": "markdown",
   "id": "7aa0ba92",
   "metadata": {},
   "source": [
    "## Comparing Algorithms\n",
    "\n",
    "***"
   ]
  },
  {
   "cell_type": "code",
   "execution_count": 55,
   "id": "8fd06b4b",
   "metadata": {},
   "outputs": [
    {
     "data": {
      "text/plain": [
       "([1, 2, 3, 7, 17, 19, 25, 36, 100], 12)"
      ]
     },
     "execution_count": 55,
     "metadata": {},
     "output_type": "execute_result"
    }
   ],
   "source": [
    "# Perform heap sort, show number of comparisons for L\n",
    "L = [19, 100, 36, 25, 3, 17, 7, 1, 2]\n",
    "\n",
    "# Pass L to heapsort\n",
    "no_comparison = heapsort(L)\n",
    "\n",
    "# Print L and no_comparisons in tuple\n",
    "L, no_comparison"
   ]
  },
  {
   "cell_type": "code",
   "execution_count": 56,
   "id": "88278575",
   "metadata": {},
   "outputs": [
    {
     "data": {
      "text/plain": [
       "([1, 2, 3, 7, 17, 19, 25, 36, 100], 36)"
      ]
     },
     "execution_count": 56,
     "metadata": {},
     "output_type": "execute_result"
    }
   ],
   "source": [
    "# Bubble sort comparisons\n",
    "L = [19, 100, 36, 25, 3, 17, 7, 1, 2]\n",
    "no_comparison = bubble_sort(L)\n",
    "L, no_comparison"
   ]
  },
  {
   "cell_type": "code",
   "execution_count": 57,
   "id": "a68838c7",
   "metadata": {},
   "outputs": [
    {
     "data": {
      "text/plain": [
       "[]"
      ]
     },
     "execution_count": 57,
     "metadata": {},
     "output_type": "execute_result"
    }
   ],
   "source": [
    "# Testing with empty list\n",
    "L = []\n",
    "heapsort(L)\n",
    "L"
   ]
  },
  {
   "cell_type": "code",
   "execution_count": 58,
   "id": "5b6f3f97",
   "metadata": {},
   "outputs": [
    {
     "data": {
      "text/plain": [
       "[5]"
      ]
     },
     "execution_count": 58,
     "metadata": {},
     "output_type": "execute_result"
    }
   ],
   "source": [
    "# Testing with 1 element\n",
    "L = [5]\n",
    "heapsort(L)\n",
    "L"
   ]
  },
  {
   "cell_type": "code",
   "execution_count": 59,
   "id": "f1409fc8",
   "metadata": {},
   "outputs": [
    {
     "data": {
      "text/plain": [
       "[1, 9]"
      ]
     },
     "execution_count": 59,
     "metadata": {},
     "output_type": "execute_result"
    }
   ],
   "source": [
    "# Testing with 2 elements\n",
    "L = [9, 1]\n",
    "heapsort(L)\n",
    "L"
   ]
  },
  {
   "cell_type": "markdown",
   "id": "609ab11e",
   "metadata": {},
   "source": [
    "### Itertools - cool permutations with Python\n",
    "\n",
    "***"
   ]
  },
  {
   "cell_type": "code",
   "execution_count": 60,
   "id": "1ec663a9",
   "metadata": {},
   "outputs": [
    {
     "name": "stdout",
     "output_type": "stream",
     "text": [
      "0, 1, 2, 3, 4 | 4 | 8\n",
      "0, 1, 2, 4, 3 | 7 | 9\n",
      "0, 1, 3, 2, 4 | 7 | 7\n",
      "0, 1, 3, 4, 2 | 9 | 8\n",
      "0, 1, 4, 2, 3 | 7 | 8\n",
      "0, 1, 4, 3, 2 | 9 | 6\n",
      "0, 2, 1, 3, 4 | 7 | 6\n",
      "0, 2, 1, 4, 3 | 7 | 7\n",
      "0, 2, 3, 1, 4 | 9 | 8\n",
      "0, 2, 3, 4, 1 | 10 | 6\n",
      "0, 2, 4, 1, 3 | 9 | 6\n",
      "0, 2, 4, 3, 1 | 10 | 7\n",
      "0, 3, 1, 2, 4 | 7 | 7\n",
      "0, 3, 1, 4, 2 | 9 | 5\n",
      "0, 3, 2, 1, 4 | 9 | 9\n",
      "0, 3, 2, 4, 1 | 10 | 7\n",
      "0, 3, 4, 1, 2 | 9 | 5\n",
      "0, 3, 4, 2, 1 | 10 | 6\n",
      "0, 4, 1, 2, 3 | 7 | 6\n",
      "0, 4, 1, 3, 2 | 9 | 4\n",
      "0, 4, 2, 1, 3 | 9 | 8\n",
      "0, 4, 2, 3, 1 | 10 | 6\n",
      "0, 4, 3, 1, 2 | 9 | 7\n",
      "0, 4, 3, 2, 1 | 10 | 5\n",
      "1, 0, 2, 3, 4 | 7 | 9\n",
      "1, 0, 2, 4, 3 | 7 | 7\n",
      "1, 0, 3, 2, 4 | 7 | 8\n",
      "1, 0, 3, 4, 2 | 9 | 6\n",
      "1, 0, 4, 2, 3 | 7 | 7\n",
      "1, 0, 4, 3, 2 | 9 | 5\n",
      "1, 2, 0, 3, 4 | 9 | 7\n",
      "1, 2, 0, 4, 3 | 9 | 8\n",
      "1, 2, 3, 0, 4 | 10 | 6\n",
      "1, 2, 3, 4, 0 | 10 | 7\n",
      "1, 2, 4, 0, 3 | 10 | 5\n",
      "1, 2, 4, 3, 0 | 10 | 6\n",
      "1, 3, 0, 2, 4 | 9 | 8\n",
      "1, 3, 0, 4, 2 | 9 | 6\n",
      "1, 3, 2, 0, 4 | 10 | 7\n",
      "1, 3, 2, 4, 0 | 10 | 8\n",
      "1, 3, 4, 0, 2 | 10 | 4\n",
      "1, 3, 4, 2, 0 | 10 | 5\n",
      "1, 4, 0, 2, 3 | 9 | 7\n",
      "1, 4, 0, 3, 2 | 9 | 5\n",
      "1, 4, 2, 0, 3 | 10 | 6\n",
      "1, 4, 2, 3, 0 | 10 | 7\n",
      "1, 4, 3, 0, 2 | 10 | 5\n",
      "1, 4, 3, 2, 0 | 10 | 6\n",
      "2, 0, 1, 3, 4 | 7 | 7\n",
      "2, 0, 1, 4, 3 | 7 | 5\n",
      "2, 0, 3, 1, 4 | 9 | 7\n",
      "2, 0, 3, 4, 1 | 10 | 5\n",
      "2, 0, 4, 1, 3 | 9 | 9\n",
      "2, 0, 4, 3, 1 | 10 | 7\n",
      "2, 1, 0, 3, 4 | 9 | 8\n",
      "2, 1, 0, 4, 3 | 9 | 6\n",
      "2, 1, 3, 0, 4 | 10 | 5\n",
      "2, 1, 3, 4, 0 | 10 | 6\n",
      "2, 1, 4, 0, 3 | 10 | 7\n",
      "2, 1, 4, 3, 0 | 10 | 8\n",
      "2, 3, 0, 1, 4 | 9 | 6\n",
      "2, 3, 0, 4, 1 | 10 | 7\n",
      "2, 3, 1, 0, 4 | 10 | 5\n",
      "2, 3, 1, 4, 0 | 10 | 6\n",
      "2, 3, 4, 0, 1 | 10 | 6\n",
      "2, 3, 4, 1, 0 | 10 | 7\n",
      "2, 4, 0, 1, 3 | 9 | 5\n",
      "2, 4, 0, 3, 1 | 10 | 6\n",
      "2, 4, 1, 0, 3 | 10 | 4\n",
      "2, 4, 1, 3, 0 | 10 | 5\n",
      "2, 4, 3, 0, 1 | 10 | 4\n",
      "2, 4, 3, 1, 0 | 10 | 5\n",
      "3, 0, 1, 2, 4 | 7 | 6\n",
      "3, 0, 1, 4, 2 | 9 | 4\n",
      "3, 0, 2, 1, 4 | 9 | 8\n",
      "3, 0, 2, 4, 1 | 10 | 6\n",
      "3, 0, 4, 1, 2 | 9 | 7\n",
      "3, 0, 4, 2, 1 | 10 | 5\n",
      "3, 1, 0, 2, 4 | 9 | 7\n",
      "3, 1, 0, 4, 2 | 9 | 5\n",
      "3, 1, 2, 0, 4 | 10 | 6\n",
      "3, 1, 2, 4, 0 | 10 | 7\n",
      "3, 1, 4, 0, 2 | 10 | 5\n",
      "3, 1, 4, 2, 0 | 10 | 6\n",
      "3, 2, 0, 1, 4 | 9 | 5\n",
      "3, 2, 0, 4, 1 | 10 | 6\n",
      "3, 2, 1, 0, 4 | 10 | 4\n",
      "3, 2, 1, 4, 0 | 10 | 5\n",
      "3, 2, 4, 0, 1 | 10 | 4\n",
      "3, 2, 4, 1, 0 | 10 | 5\n",
      "3, 4, 0, 1, 2 | 9 | 4\n",
      "3, 4, 0, 2, 1 | 10 | 5\n",
      "3, 4, 1, 0, 2 | 10 | 3\n",
      "3, 4, 1, 2, 0 | 10 | 4\n",
      "3, 4, 2, 0, 1 | 10 | 5\n",
      "3, 4, 2, 1, 0 | 10 | 6\n",
      "4, 0, 1, 2, 3 | 7 | 5\n",
      "4, 0, 1, 3, 2 | 9 | 3\n",
      "4, 0, 2, 1, 3 | 9 | 7\n",
      "4, 0, 2, 3, 1 | 10 | 5\n",
      "4, 0, 3, 1, 2 | 9 | 6\n",
      "4, 0, 3, 2, 1 | 10 | 4\n",
      "4, 1, 0, 2, 3 | 9 | 6\n",
      "4, 1, 0, 3, 2 | 9 | 4\n",
      "4, 1, 2, 0, 3 | 10 | 5\n",
      "4, 1, 2, 3, 0 | 10 | 6\n",
      "4, 1, 3, 0, 2 | 10 | 4\n",
      "4, 1, 3, 2, 0 | 10 | 5\n",
      "4, 2, 0, 1, 3 | 9 | 4\n",
      "4, 2, 0, 3, 1 | 10 | 5\n",
      "4, 2, 1, 0, 3 | 10 | 3\n",
      "4, 2, 1, 3, 0 | 10 | 4\n",
      "4, 2, 3, 0, 1 | 10 | 3\n",
      "4, 2, 3, 1, 0 | 10 | 4\n",
      "4, 3, 0, 1, 2 | 9 | 3\n",
      "4, 3, 0, 2, 1 | 10 | 4\n",
      "4, 3, 1, 0, 2 | 10 | 2\n",
      "4, 3, 1, 2, 0 | 10 | 3\n",
      "4, 3, 2, 0, 1 | 10 | 4\n",
      "4, 3, 2, 1, 0 | 10 | 5\n"
     ]
    }
   ],
   "source": [
    "# A module full of combinatorial functions\n",
    "import itertools\n",
    "\n",
    "# Length of example list\n",
    "n = 5\n",
    "\n",
    "# Shows all the combinations in a list of values from 1 to n\n",
    "for perm in itertools.permutations(range(n)):\n",
    "    L = list(perm)\n",
    "    bubb_comp = bubble_sort(L)\n",
    "    L = list(perm)\n",
    "    heap_comp = heapsort(L)\n",
    "    #print(perm, '->', L)\n",
    "    print(f'{str(perm)[1:-1]} | {bubb_comp} | {heap_comp}')"
   ]
  },
  {
   "cell_type": "markdown",
   "id": "e6672026",
   "metadata": {},
   "source": [
    "Using pandas:"
   ]
  },
  {
   "cell_type": "code",
   "execution_count": 61,
   "id": "c2cc839d",
   "metadata": {},
   "outputs": [],
   "source": [
    "# Like excel for Python\n",
    "import pandas as pd"
   ]
  },
  {
   "cell_type": "code",
   "execution_count": 62,
   "id": "d94eab3e",
   "metadata": {},
   "outputs": [],
   "source": [
    "# Length of example list\n",
    "n = 5\n",
    "\n",
    "results = [[str(perm)[1:-1], bubble_sort(list(perm)), heapsort(list(perm))] for perm in itertools.permutations(range(n))]\n",
    "    "
   ]
  },
  {
   "cell_type": "code",
   "execution_count": 63,
   "id": "1a697fea",
   "metadata": {},
   "outputs": [
    {
     "data": {
      "text/plain": [
       "[['0, 1, 2, 3, 4', 4, 8],\n",
       " ['0, 1, 2, 4, 3', 7, 9],\n",
       " ['0, 1, 3, 2, 4', 7, 7],\n",
       " ['0, 1, 3, 4, 2', 9, 8],\n",
       " ['0, 1, 4, 2, 3', 7, 8],\n",
       " ['0, 1, 4, 3, 2', 9, 6],\n",
       " ['0, 2, 1, 3, 4', 7, 6],\n",
       " ['0, 2, 1, 4, 3', 7, 7],\n",
       " ['0, 2, 3, 1, 4', 9, 8],\n",
       " ['0, 2, 3, 4, 1', 10, 6],\n",
       " ['0, 2, 4, 1, 3', 9, 6],\n",
       " ['0, 2, 4, 3, 1', 10, 7],\n",
       " ['0, 3, 1, 2, 4', 7, 7],\n",
       " ['0, 3, 1, 4, 2', 9, 5],\n",
       " ['0, 3, 2, 1, 4', 9, 9],\n",
       " ['0, 3, 2, 4, 1', 10, 7],\n",
       " ['0, 3, 4, 1, 2', 9, 5],\n",
       " ['0, 3, 4, 2, 1', 10, 6],\n",
       " ['0, 4, 1, 2, 3', 7, 6],\n",
       " ['0, 4, 1, 3, 2', 9, 4],\n",
       " ['0, 4, 2, 1, 3', 9, 8],\n",
       " ['0, 4, 2, 3, 1', 10, 6],\n",
       " ['0, 4, 3, 1, 2', 9, 7],\n",
       " ['0, 4, 3, 2, 1', 10, 5],\n",
       " ['1, 0, 2, 3, 4', 7, 9],\n",
       " ['1, 0, 2, 4, 3', 7, 7],\n",
       " ['1, 0, 3, 2, 4', 7, 8],\n",
       " ['1, 0, 3, 4, 2', 9, 6],\n",
       " ['1, 0, 4, 2, 3', 7, 7],\n",
       " ['1, 0, 4, 3, 2', 9, 5],\n",
       " ['1, 2, 0, 3, 4', 9, 7],\n",
       " ['1, 2, 0, 4, 3', 9, 8],\n",
       " ['1, 2, 3, 0, 4', 10, 6],\n",
       " ['1, 2, 3, 4, 0', 10, 7],\n",
       " ['1, 2, 4, 0, 3', 10, 5],\n",
       " ['1, 2, 4, 3, 0', 10, 6],\n",
       " ['1, 3, 0, 2, 4', 9, 8],\n",
       " ['1, 3, 0, 4, 2', 9, 6],\n",
       " ['1, 3, 2, 0, 4', 10, 7],\n",
       " ['1, 3, 2, 4, 0', 10, 8],\n",
       " ['1, 3, 4, 0, 2', 10, 4],\n",
       " ['1, 3, 4, 2, 0', 10, 5],\n",
       " ['1, 4, 0, 2, 3', 9, 7],\n",
       " ['1, 4, 0, 3, 2', 9, 5],\n",
       " ['1, 4, 2, 0, 3', 10, 6],\n",
       " ['1, 4, 2, 3, 0', 10, 7],\n",
       " ['1, 4, 3, 0, 2', 10, 5],\n",
       " ['1, 4, 3, 2, 0', 10, 6],\n",
       " ['2, 0, 1, 3, 4', 7, 7],\n",
       " ['2, 0, 1, 4, 3', 7, 5],\n",
       " ['2, 0, 3, 1, 4', 9, 7],\n",
       " ['2, 0, 3, 4, 1', 10, 5],\n",
       " ['2, 0, 4, 1, 3', 9, 9],\n",
       " ['2, 0, 4, 3, 1', 10, 7],\n",
       " ['2, 1, 0, 3, 4', 9, 8],\n",
       " ['2, 1, 0, 4, 3', 9, 6],\n",
       " ['2, 1, 3, 0, 4', 10, 5],\n",
       " ['2, 1, 3, 4, 0', 10, 6],\n",
       " ['2, 1, 4, 0, 3', 10, 7],\n",
       " ['2, 1, 4, 3, 0', 10, 8],\n",
       " ['2, 3, 0, 1, 4', 9, 6],\n",
       " ['2, 3, 0, 4, 1', 10, 7],\n",
       " ['2, 3, 1, 0, 4', 10, 5],\n",
       " ['2, 3, 1, 4, 0', 10, 6],\n",
       " ['2, 3, 4, 0, 1', 10, 6],\n",
       " ['2, 3, 4, 1, 0', 10, 7],\n",
       " ['2, 4, 0, 1, 3', 9, 5],\n",
       " ['2, 4, 0, 3, 1', 10, 6],\n",
       " ['2, 4, 1, 0, 3', 10, 4],\n",
       " ['2, 4, 1, 3, 0', 10, 5],\n",
       " ['2, 4, 3, 0, 1', 10, 4],\n",
       " ['2, 4, 3, 1, 0', 10, 5],\n",
       " ['3, 0, 1, 2, 4', 7, 6],\n",
       " ['3, 0, 1, 4, 2', 9, 4],\n",
       " ['3, 0, 2, 1, 4', 9, 8],\n",
       " ['3, 0, 2, 4, 1', 10, 6],\n",
       " ['3, 0, 4, 1, 2', 9, 7],\n",
       " ['3, 0, 4, 2, 1', 10, 5],\n",
       " ['3, 1, 0, 2, 4', 9, 7],\n",
       " ['3, 1, 0, 4, 2', 9, 5],\n",
       " ['3, 1, 2, 0, 4', 10, 6],\n",
       " ['3, 1, 2, 4, 0', 10, 7],\n",
       " ['3, 1, 4, 0, 2', 10, 5],\n",
       " ['3, 1, 4, 2, 0', 10, 6],\n",
       " ['3, 2, 0, 1, 4', 9, 5],\n",
       " ['3, 2, 0, 4, 1', 10, 6],\n",
       " ['3, 2, 1, 0, 4', 10, 4],\n",
       " ['3, 2, 1, 4, 0', 10, 5],\n",
       " ['3, 2, 4, 0, 1', 10, 4],\n",
       " ['3, 2, 4, 1, 0', 10, 5],\n",
       " ['3, 4, 0, 1, 2', 9, 4],\n",
       " ['3, 4, 0, 2, 1', 10, 5],\n",
       " ['3, 4, 1, 0, 2', 10, 3],\n",
       " ['3, 4, 1, 2, 0', 10, 4],\n",
       " ['3, 4, 2, 0, 1', 10, 5],\n",
       " ['3, 4, 2, 1, 0', 10, 6],\n",
       " ['4, 0, 1, 2, 3', 7, 5],\n",
       " ['4, 0, 1, 3, 2', 9, 3],\n",
       " ['4, 0, 2, 1, 3', 9, 7],\n",
       " ['4, 0, 2, 3, 1', 10, 5],\n",
       " ['4, 0, 3, 1, 2', 9, 6],\n",
       " ['4, 0, 3, 2, 1', 10, 4],\n",
       " ['4, 1, 0, 2, 3', 9, 6],\n",
       " ['4, 1, 0, 3, 2', 9, 4],\n",
       " ['4, 1, 2, 0, 3', 10, 5],\n",
       " ['4, 1, 2, 3, 0', 10, 6],\n",
       " ['4, 1, 3, 0, 2', 10, 4],\n",
       " ['4, 1, 3, 2, 0', 10, 5],\n",
       " ['4, 2, 0, 1, 3', 9, 4],\n",
       " ['4, 2, 0, 3, 1', 10, 5],\n",
       " ['4, 2, 1, 0, 3', 10, 3],\n",
       " ['4, 2, 1, 3, 0', 10, 4],\n",
       " ['4, 2, 3, 0, 1', 10, 3],\n",
       " ['4, 2, 3, 1, 0', 10, 4],\n",
       " ['4, 3, 0, 1, 2', 9, 3],\n",
       " ['4, 3, 0, 2, 1', 10, 4],\n",
       " ['4, 3, 1, 0, 2', 10, 2],\n",
       " ['4, 3, 1, 2, 0', 10, 3],\n",
       " ['4, 3, 2, 0, 1', 10, 4],\n",
       " ['4, 3, 2, 1, 0', 10, 5]]"
      ]
     },
     "execution_count": 63,
     "metadata": {},
     "output_type": "execute_result"
    }
   ],
   "source": [
    "# Look at the results\n",
    "results"
   ]
  },
  {
   "cell_type": "code",
   "execution_count": 64,
   "id": "c86f40e2",
   "metadata": {
    "scrolled": true
   },
   "outputs": [
    {
     "data": {
      "text/html": [
       "<div>\n",
       "<style scoped>\n",
       "    .dataframe tbody tr th:only-of-type {\n",
       "        vertical-align: middle;\n",
       "    }\n",
       "\n",
       "    .dataframe tbody tr th {\n",
       "        vertical-align: top;\n",
       "    }\n",
       "\n",
       "    .dataframe thead th {\n",
       "        text-align: right;\n",
       "    }\n",
       "</style>\n",
       "<table border=\"1\" class=\"dataframe\">\n",
       "  <thead>\n",
       "    <tr style=\"text-align: right;\">\n",
       "      <th></th>\n",
       "      <th>List</th>\n",
       "      <th>Bubble</th>\n",
       "      <th>Heap</th>\n",
       "    </tr>\n",
       "  </thead>\n",
       "  <tbody>\n",
       "    <tr>\n",
       "      <th>0</th>\n",
       "      <td>0, 1, 2, 3, 4</td>\n",
       "      <td>4</td>\n",
       "      <td>8</td>\n",
       "    </tr>\n",
       "    <tr>\n",
       "      <th>1</th>\n",
       "      <td>0, 1, 2, 4, 3</td>\n",
       "      <td>7</td>\n",
       "      <td>9</td>\n",
       "    </tr>\n",
       "    <tr>\n",
       "      <th>2</th>\n",
       "      <td>0, 1, 3, 2, 4</td>\n",
       "      <td>7</td>\n",
       "      <td>7</td>\n",
       "    </tr>\n",
       "    <tr>\n",
       "      <th>3</th>\n",
       "      <td>0, 1, 3, 4, 2</td>\n",
       "      <td>9</td>\n",
       "      <td>8</td>\n",
       "    </tr>\n",
       "    <tr>\n",
       "      <th>4</th>\n",
       "      <td>0, 1, 4, 2, 3</td>\n",
       "      <td>7</td>\n",
       "      <td>8</td>\n",
       "    </tr>\n",
       "    <tr>\n",
       "      <th>...</th>\n",
       "      <td>...</td>\n",
       "      <td>...</td>\n",
       "      <td>...</td>\n",
       "    </tr>\n",
       "    <tr>\n",
       "      <th>115</th>\n",
       "      <td>4, 3, 0, 2, 1</td>\n",
       "      <td>10</td>\n",
       "      <td>4</td>\n",
       "    </tr>\n",
       "    <tr>\n",
       "      <th>116</th>\n",
       "      <td>4, 3, 1, 0, 2</td>\n",
       "      <td>10</td>\n",
       "      <td>2</td>\n",
       "    </tr>\n",
       "    <tr>\n",
       "      <th>117</th>\n",
       "      <td>4, 3, 1, 2, 0</td>\n",
       "      <td>10</td>\n",
       "      <td>3</td>\n",
       "    </tr>\n",
       "    <tr>\n",
       "      <th>118</th>\n",
       "      <td>4, 3, 2, 0, 1</td>\n",
       "      <td>10</td>\n",
       "      <td>4</td>\n",
       "    </tr>\n",
       "    <tr>\n",
       "      <th>119</th>\n",
       "      <td>4, 3, 2, 1, 0</td>\n",
       "      <td>10</td>\n",
       "      <td>5</td>\n",
       "    </tr>\n",
       "  </tbody>\n",
       "</table>\n",
       "<p>120 rows × 3 columns</p>\n",
       "</div>"
      ],
      "text/plain": [
       "              List  Bubble  Heap\n",
       "0    0, 1, 2, 3, 4       4     8\n",
       "1    0, 1, 2, 4, 3       7     9\n",
       "2    0, 1, 3, 2, 4       7     7\n",
       "3    0, 1, 3, 4, 2       9     8\n",
       "4    0, 1, 4, 2, 3       7     8\n",
       "..             ...     ...   ...\n",
       "115  4, 3, 0, 2, 1      10     4\n",
       "116  4, 3, 1, 0, 2      10     2\n",
       "117  4, 3, 1, 2, 0      10     3\n",
       "118  4, 3, 2, 0, 1      10     4\n",
       "119  4, 3, 2, 1, 0      10     5\n",
       "\n",
       "[120 rows x 3 columns]"
      ]
     },
     "execution_count": 64,
     "metadata": {},
     "output_type": "execute_result"
    }
   ],
   "source": [
    "# Display dataframe using pandas\n",
    "df = pd.DataFrame(results, columns=['List', 'Bubble', 'Heap'])\n",
    "df"
   ]
  },
  {
   "cell_type": "code",
   "execution_count": 65,
   "id": "426bba7b",
   "metadata": {},
   "outputs": [
    {
     "data": {
      "text/html": [
       "<div>\n",
       "<style scoped>\n",
       "    .dataframe tbody tr th:only-of-type {\n",
       "        vertical-align: middle;\n",
       "    }\n",
       "\n",
       "    .dataframe tbody tr th {\n",
       "        vertical-align: top;\n",
       "    }\n",
       "\n",
       "    .dataframe thead th {\n",
       "        text-align: right;\n",
       "    }\n",
       "</style>\n",
       "<table border=\"1\" class=\"dataframe\">\n",
       "  <thead>\n",
       "    <tr style=\"text-align: right;\">\n",
       "      <th></th>\n",
       "      <th>Bubble</th>\n",
       "      <th>Heap</th>\n",
       "    </tr>\n",
       "  </thead>\n",
       "  <tbody>\n",
       "    <tr>\n",
       "      <th>count</th>\n",
       "      <td>120.000000</td>\n",
       "      <td>120.000000</td>\n",
       "    </tr>\n",
       "    <tr>\n",
       "      <th>mean</th>\n",
       "      <td>9.258333</td>\n",
       "      <td>5.783333</td>\n",
       "    </tr>\n",
       "    <tr>\n",
       "      <th>std</th>\n",
       "      <td>1.096180</td>\n",
       "      <td>1.501726</td>\n",
       "    </tr>\n",
       "    <tr>\n",
       "      <th>min</th>\n",
       "      <td>4.000000</td>\n",
       "      <td>2.000000</td>\n",
       "    </tr>\n",
       "    <tr>\n",
       "      <th>25%</th>\n",
       "      <td>9.000000</td>\n",
       "      <td>5.000000</td>\n",
       "    </tr>\n",
       "    <tr>\n",
       "      <th>50%</th>\n",
       "      <td>10.000000</td>\n",
       "      <td>6.000000</td>\n",
       "    </tr>\n",
       "    <tr>\n",
       "      <th>75%</th>\n",
       "      <td>10.000000</td>\n",
       "      <td>7.000000</td>\n",
       "    </tr>\n",
       "    <tr>\n",
       "      <th>max</th>\n",
       "      <td>10.000000</td>\n",
       "      <td>9.000000</td>\n",
       "    </tr>\n",
       "  </tbody>\n",
       "</table>\n",
       "</div>"
      ],
      "text/plain": [
       "           Bubble        Heap\n",
       "count  120.000000  120.000000\n",
       "mean     9.258333    5.783333\n",
       "std      1.096180    1.501726\n",
       "min      4.000000    2.000000\n",
       "25%      9.000000    5.000000\n",
       "50%     10.000000    6.000000\n",
       "75%     10.000000    7.000000\n",
       "max     10.000000    9.000000"
      ]
     },
     "execution_count": 65,
     "metadata": {},
     "output_type": "execute_result"
    }
   ],
   "source": [
    "df.describe()"
   ]
  },
  {
   "cell_type": "markdown",
   "id": "5ec386bc",
   "metadata": {},
   "source": [
    "### Note: Passing variables to functions\n",
    "\n",
    "***"
   ]
  },
  {
   "cell_type": "code",
   "execution_count": 66,
   "id": "d1904a3a",
   "metadata": {},
   "outputs": [
    {
     "name": "stdout",
     "output_type": "stream",
     "text": [
      "1\n"
     ]
    }
   ],
   "source": [
    "# ints are passed by value\n",
    "# Variable a set to 1\n",
    "a = 1\n",
    "\n",
    "# Function - b is a value\n",
    "def change(b):\n",
    "    #Change value of b\n",
    "    b = 2\n",
    "    \n",
    "# a is passed by value\n",
    "change(a)\n",
    "\n",
    "# a has not changed\n",
    "print(a)"
   ]
  },
  {
   "cell_type": "code",
   "execution_count": 67,
   "id": "2e571020",
   "metadata": {},
   "outputs": [
    {
     "name": "stdout",
     "output_type": "stream",
     "text": [
      "[1, 2, 100, 4]\n"
     ]
    }
   ],
   "source": [
    "# Lists are passed by reference\n",
    "a = [1, 2, 3, 4]\n",
    "\n",
    "# Function - a is a reference\n",
    "def change(b):\n",
    "    # Change an element\n",
    "    b[2] = 100\n",
    "    \n",
    "# Pass a to change\n",
    "change(a)\n",
    "\n",
    "# a has changed\n",
    "print(a)"
   ]
  },
  {
   "cell_type": "markdown",
   "id": "e258110f",
   "metadata": {},
   "source": [
    "***\n",
    "\n",
    "# End\n",
    "\n",
    "***"
   ]
  }
 ],
 "metadata": {
  "kernelspec": {
   "display_name": "Python 3 (ipykernel)",
   "language": "python",
   "name": "python3"
  },
  "language_info": {
   "codemirror_mode": {
    "name": "ipython",
    "version": 3
   },
   "file_extension": ".py",
   "mimetype": "text/x-python",
   "name": "python",
   "nbconvert_exporter": "python",
   "pygments_lexer": "ipython3",
   "version": "3.9.7"
  }
 },
 "nbformat": 4,
 "nbformat_minor": 5
}
